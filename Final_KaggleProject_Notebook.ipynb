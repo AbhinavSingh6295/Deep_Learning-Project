{
  "nbformat": 4,
  "nbformat_minor": 0,
  "metadata": {
    "colab": {
      "name": "FDL_KaggleProject.ipynb",
      "provenance": [],
      "collapsed_sections": []
    },
    "kernelspec": {
      "name": "python3",
      "display_name": "Python 3"
    },
    "language_info": {
      "name": "python"
    },
    "accelerator": "GPU"
  },
  "cells": [
    {
      "cell_type": "code",
      "execution_count": 39,
      "metadata": {
        "id": "zhbcQIlD2xml"
      },
      "outputs": [],
      "source": [
        "# Importing required libraries\n",
        "import os\n",
        "from PIL import Image\n",
        "from torch.utils.data import Dataset\n",
        "import numpy as np"
      ]
    },
    {
      "cell_type": "code",
      "source": [
        "# Connection to google drive for data\n",
        "from google.colab import drive\n",
        "drive = drive.mount('/content/drive')"
      ],
      "metadata": {
        "colab": {
          "base_uri": "https://localhost:8080/"
        },
        "id": "NebqlbcX7fby",
        "outputId": "2f7a3dac-c9fc-4e79-f69b-173b48818516"
      },
      "execution_count": 40,
      "outputs": [
        {
          "output_type": "stream",
          "name": "stdout",
          "text": [
            "Drive already mounted at /content/drive; to attempt to forcibly remount, call drive.mount(\"/content/drive\", force_remount=True).\n"
          ]
        }
      ]
    },
    {
      "cell_type": "code",
      "source": [
        "!pip install split-folders"
      ],
      "metadata": {
        "colab": {
          "base_uri": "https://localhost:8080/"
        },
        "id": "u51YuiMFabYs",
        "outputId": "8a32a22f-4a69-4d8c-c351-45e8e2e6df57"
      },
      "execution_count": null,
      "outputs": [
        {
          "output_type": "stream",
          "name": "stdout",
          "text": [
            "Collecting split-folders\n",
            "  Downloading split_folders-0.4.3-py3-none-any.whl (7.4 kB)\n",
            "Installing collected packages: split-folders\n",
            "Successfully installed split-folders-0.4.3\n"
          ]
        }
      ]
    },
    {
      "cell_type": "code",
      "source": [
        "#Split the train images and masks into training and validation set \n",
        "import splitfolders\n",
        "splitfolders.fixed(\"/content/drive/MyDrive/FoundationDeepLearning_Labs/Kaggle_Project/Input\", \"/content/drive/MyDrive/FoundationDeepLearning_Labs/Kaggle_Project/Input_Split\", \n",
        "                   seed = 1337, fixed = (30), oversample = False, group_prefix = None)"
      ],
      "metadata": {
        "colab": {
          "base_uri": "https://localhost:8080/"
        },
        "id": "P-cU8iqdaqYY",
        "outputId": "f63dae1c-2f87-424e-b38f-13a91e9dd3c2"
      },
      "execution_count": null,
      "outputs": [
        {
          "output_type": "stream",
          "name": "stderr",
          "text": [
            "Copying files: 522 files [00:57,  9.08 files/s]\n"
          ]
        }
      ]
    },
    {
      "cell_type": "markdown",
      "source": [
        "# Dataset Preparation "
      ],
      "metadata": {
        "id": "1mtOWfKW3WiZ"
      }
    },
    {
      "cell_type": "code",
      "source": [
        "# Directories in google drive where images are present.\n",
        "train_images_dir = '/content/drive/MyDrive/FoundationDeepLearning_Labs/Kaggle_Project/Input/train_images/'\n",
        "train_masks_dir = '/content/drive/MyDrive/FoundationDeepLearning_Labs/Kaggle_Project/Input/train_masks'\n",
        "#val_images_dir = '/content/drive/MyDrive/FoundationDeepLearning_Labs/Kaggle_Project/Input_Split/val/train_images'\n",
        "#val_masks_dir = '/content/drive/MyDrive/FoundationDeepLearning_Labs/Kaggle_Project/Input_Split/val/train_masks'\n",
        "test_images_dir = '/content/drive/MyDrive/FoundationDeepLearning_Labs/Kaggle_Project/test_images/test_images/'"
      ],
      "metadata": {
        "id": "6kiyiOXh7g3n"
      },
      "execution_count": 41,
      "outputs": []
    },
    {
      "cell_type": "code",
      "source": [
        "# Class for Train Dataset Preparation - \n",
        "class KaggleDataset(Dataset):\n",
        "  def __init__(self, image_dir, mask_dir, transform = None):\n",
        "    self.image_dir = image_dir\n",
        "    self.mask_dir = mask_dir\n",
        "    self.transform = transform\n",
        "    self.images = os.listdir(image_dir)\n",
        "\n",
        "  def __len__(self):\n",
        "    return len(self.images)\n",
        "\n",
        "  def __getitem__(self, index):\n",
        "    img_path = os.path.join(self.image_dir, self.images[index])\n",
        "    mask_path = os.path.join(self.mask_dir, self.images[index].replace(\".jpg\", \".png\"))\n",
        "    image = np.array(Image.open(img_path).convert(\"RGB\"))\n",
        "    mask = np.array(Image.open(mask_path).convert(\"L\"), dtype = np.float32)\n",
        "\n",
        "    if self.transform is not None:\n",
        "      augmentations = self.transform(image=image, mask = mask)\n",
        "      image = augmentations[\"image\"]\n",
        "      mask = augmentations[\"mask\"]\n",
        "\n",
        "    return image, mask"
      ],
      "metadata": {
        "id": "GF06ykuN5t4r"
      },
      "execution_count": 42,
      "outputs": []
    },
    {
      "cell_type": "code",
      "source": [
        "#Class for Test Dataset Preparation - \n",
        "class KaggleTestDataset(Dataset):\n",
        "  def __init__(self, image_dir, transform = None):\n",
        "    self.image_dir = image_dir\n",
        "    self.transform = transform\n",
        "    self.images = os.listdir(image_dir)\n",
        "\n",
        "  def __len__(self):\n",
        "    return len(self.images)\n",
        "\n",
        "  def __getitem__(self, index):\n",
        "    img_path = os.path.join(self.image_dir, self.images[index])\n",
        "    image = np.array(Image.open(img_path).convert(\"RGB\"))\n",
        "\n",
        "    if self.transform is not None:\n",
        "      augmentations = self.transform(image=image)\n",
        "      image = augmentations[\"image\"]\n",
        "\n",
        "    return image"
      ],
      "metadata": {
        "id": "-iATB5nB-8nb"
      },
      "execution_count": 43,
      "outputs": []
    },
    {
      "cell_type": "code",
      "source": [
        "# Install the latest version of Albumentations for data transformation - \n",
        "!pip install albumentations==0.4.6"
      ],
      "metadata": {
        "colab": {
          "base_uri": "https://localhost:8080/"
        },
        "id": "AwHlc-qK9dDc",
        "outputId": "b09c206f-706f-40f9-b337-746453cfc91f"
      },
      "execution_count": 6,
      "outputs": [
        {
          "output_type": "stream",
          "name": "stdout",
          "text": [
            "Collecting albumentations==0.4.6\n",
            "  Downloading albumentations-0.4.6.tar.gz (117 kB)\n",
            "\u001b[K     |████████████████████████████████| 117 kB 7.2 MB/s \n",
            "\u001b[?25hRequirement already satisfied: numpy>=1.11.1 in /usr/local/lib/python3.7/dist-packages (from albumentations==0.4.6) (1.19.5)\n",
            "Requirement already satisfied: scipy in /usr/local/lib/python3.7/dist-packages (from albumentations==0.4.6) (1.4.1)\n",
            "Collecting imgaug>=0.4.0\n",
            "  Downloading imgaug-0.4.0-py2.py3-none-any.whl (948 kB)\n",
            "\u001b[K     |████████████████████████████████| 948 kB 55.2 MB/s \n",
            "\u001b[?25hRequirement already satisfied: PyYAML in /usr/local/lib/python3.7/dist-packages (from albumentations==0.4.6) (3.13)\n",
            "Requirement already satisfied: opencv-python>=4.1.1 in /usr/local/lib/python3.7/dist-packages (from albumentations==0.4.6) (4.1.2.30)\n",
            "Requirement already satisfied: Pillow in /usr/local/lib/python3.7/dist-packages (from imgaug>=0.4.0->albumentations==0.4.6) (7.1.2)\n",
            "Requirement already satisfied: matplotlib in /usr/local/lib/python3.7/dist-packages (from imgaug>=0.4.0->albumentations==0.4.6) (3.2.2)\n",
            "Requirement already satisfied: Shapely in /usr/local/lib/python3.7/dist-packages (from imgaug>=0.4.0->albumentations==0.4.6) (1.8.0)\n",
            "Requirement already satisfied: scikit-image>=0.14.2 in /usr/local/lib/python3.7/dist-packages (from imgaug>=0.4.0->albumentations==0.4.6) (0.18.3)\n",
            "Requirement already satisfied: six in /usr/local/lib/python3.7/dist-packages (from imgaug>=0.4.0->albumentations==0.4.6) (1.15.0)\n",
            "Requirement already satisfied: imageio in /usr/local/lib/python3.7/dist-packages (from imgaug>=0.4.0->albumentations==0.4.6) (2.4.1)\n",
            "Requirement already satisfied: PyWavelets>=1.1.1 in /usr/local/lib/python3.7/dist-packages (from scikit-image>=0.14.2->imgaug>=0.4.0->albumentations==0.4.6) (1.2.0)\n",
            "Requirement already satisfied: networkx>=2.0 in /usr/local/lib/python3.7/dist-packages (from scikit-image>=0.14.2->imgaug>=0.4.0->albumentations==0.4.6) (2.6.3)\n",
            "Requirement already satisfied: tifffile>=2019.7.26 in /usr/local/lib/python3.7/dist-packages (from scikit-image>=0.14.2->imgaug>=0.4.0->albumentations==0.4.6) (2021.11.2)\n",
            "Requirement already satisfied: python-dateutil>=2.1 in /usr/local/lib/python3.7/dist-packages (from matplotlib->imgaug>=0.4.0->albumentations==0.4.6) (2.8.2)\n",
            "Requirement already satisfied: pyparsing!=2.0.4,!=2.1.2,!=2.1.6,>=2.0.1 in /usr/local/lib/python3.7/dist-packages (from matplotlib->imgaug>=0.4.0->albumentations==0.4.6) (3.0.6)\n",
            "Requirement already satisfied: kiwisolver>=1.0.1 in /usr/local/lib/python3.7/dist-packages (from matplotlib->imgaug>=0.4.0->albumentations==0.4.6) (1.3.2)\n",
            "Requirement already satisfied: cycler>=0.10 in /usr/local/lib/python3.7/dist-packages (from matplotlib->imgaug>=0.4.0->albumentations==0.4.6) (0.11.0)\n",
            "Building wheels for collected packages: albumentations\n",
            "  Building wheel for albumentations (setup.py) ... \u001b[?25l\u001b[?25hdone\n",
            "  Created wheel for albumentations: filename=albumentations-0.4.6-py3-none-any.whl size=65174 sha256=e735882381e4e56bcfc87d53c753ee91544b9a953b494ff3ec824e7672355eca\n",
            "  Stored in directory: /root/.cache/pip/wheels/cf/34/0f/cb2a5f93561a181a4bcc84847ad6aaceea8b5a3127469616cc\n",
            "Successfully built albumentations\n",
            "Installing collected packages: imgaug, albumentations\n",
            "  Attempting uninstall: imgaug\n",
            "    Found existing installation: imgaug 0.2.9\n",
            "    Uninstalling imgaug-0.2.9:\n",
            "      Successfully uninstalled imgaug-0.2.9\n",
            "  Attempting uninstall: albumentations\n",
            "    Found existing installation: albumentations 0.1.12\n",
            "    Uninstalling albumentations-0.1.12:\n",
            "      Successfully uninstalled albumentations-0.1.12\n",
            "Successfully installed albumentations-0.4.6 imgaug-0.4.0\n"
          ]
        }
      ]
    },
    {
      "cell_type": "code",
      "source": [
        "# Transformations on train and test dataset - \n",
        "\n",
        "import albumentations as A\n",
        "from albumentations.pytorch.transforms import ToTensorV2\n",
        "from torchvision import transforms\n",
        "\n",
        "Image_height = 128\n",
        "Image_width = 128\n",
        "\n",
        "transforms = A.Compose(\n",
        "    [\n",
        "     A.Resize(height=Image_height, width=Image_width),\n",
        "     #A.Rotate(limit=35, p=1.0),\n",
        "     #A.HorizontalFlip(p=0.5),\n",
        "     #A.VerticalFlip(p=0.1),\n",
        "    #  A.Normalize(\n",
        "    #      mean=[0.0, 0.0, 0.0],\n",
        "    #      std = [1.0, 1.0, 1.0],\n",
        "    #      max_pixel_value = 255.0,\n",
        "    # ),\n",
        "     ToTensorV2(),\n",
        "    ],\n",
        ")\n",
        "\n",
        "test_transform = A.Compose(\n",
        "    [\n",
        "     A.Resize(height=Image_height, width = Image_width),\n",
        "    #  A.Normalize(\n",
        "    #      mean=[0.0, 0.0, 0.0],\n",
        "    #      std = [1.0, 1.0, 1.0],\n",
        "    #      max_pixel_value = 255.0\n",
        "    #  ),\n",
        "     ToTensorV2(),\n",
        "    ],\n",
        ")"
      ],
      "metadata": {
        "id": "3FORdav4Akoz"
      },
      "execution_count": 56,
      "outputs": []
    },
    {
      "cell_type": "code",
      "source": [
        "# Train, Validation and Test Dataloader for model training and evaluation - \n",
        "\n",
        "from torch.utils.data import DataLoader\n",
        "\n",
        "train_ds = KaggleDataset(image_dir=train_images_dir, mask_dir = train_masks_dir, transform=transforms)\n",
        "train_dataloader = DataLoader(train_ds, batch_size= 16, num_workers= 2, shuffle=True)\n",
        "\n",
        "#val_ds = KaggleDataset(image_dir=val_images_dir, mask_dir = val_masks_dir, transform=transforms)\n",
        "#val_dataloader = DataLoader(train_ds, batch_size= 16, num_workers= 2, shuffle=False)\n",
        "\n",
        "test_ds = KaggleTestDataset(image_dir=test_images_dir, transform=test_transform)\n",
        "test_dataloader = DataLoader(test_ds, batch_size=1, num_workers = 2, shuffle=False) #Keeping the batch size of 1 for test images.\n"
      ],
      "metadata": {
        "id": "x0-lTMef8fzW"
      },
      "execution_count": 61,
      "outputs": []
    },
    {
      "cell_type": "code",
      "source": [
        "# Check on the dimensions of batch in train_dataloader\n",
        "image, mask = next(iter(train_dataloader))\n",
        "print(image.shape)\n",
        "print(mask.shape)"
      ],
      "metadata": {
        "id": "w6N6K82HAdbI",
        "colab": {
          "base_uri": "https://localhost:8080/"
        },
        "outputId": "220a097d-ba60-42db-cdc2-ca6a778d86f3"
      },
      "execution_count": 62,
      "outputs": [
        {
          "output_type": "stream",
          "name": "stdout",
          "text": [
            "torch.Size([16, 3, 128, 128])\n",
            "torch.Size([16, 128, 128])\n"
          ]
        }
      ]
    },
    {
      "cell_type": "code",
      "source": [
        "# # Check on the dimensions of batch in val_dataloader\n",
        "# image, mask = next(iter(val_dataloader))\n",
        "# print(image.shape)\n",
        "# print(mask.shape)"
      ],
      "metadata": {
        "colab": {
          "base_uri": "https://localhost:8080/"
        },
        "id": "6ySueXrKmKAX",
        "outputId": "82158940-5aad-4ef5-b2ef-ec0726f53610"
      },
      "execution_count": 10,
      "outputs": [
        {
          "output_type": "stream",
          "name": "stdout",
          "text": [
            "torch.Size([8, 3, 256, 256])\n",
            "torch.Size([8, 256, 256])\n"
          ]
        }
      ]
    },
    {
      "cell_type": "code",
      "source": [
        "# Check on the dimensions of batch in test_dataloader\n",
        "image = next(iter(test_dataloader))\n",
        "print(image.shape)"
      ],
      "metadata": {
        "colab": {
          "base_uri": "https://localhost:8080/"
        },
        "id": "UYMgAsyOA8AY",
        "outputId": "fbbbf664-3b49-489b-ba6c-7de47b80b140"
      },
      "execution_count": 63,
      "outputs": [
        {
          "output_type": "stream",
          "name": "stdout",
          "text": [
            "torch.Size([1, 3, 128, 128])\n"
          ]
        }
      ]
    },
    {
      "cell_type": "markdown",
      "source": [
        "# UNET Model Architecture - "
      ],
      "metadata": {
        "id": "da0R2lKz3Kmp"
      }
    },
    {
      "cell_type": "code",
      "source": [
        "import torch.nn as nn\n",
        "import torch\n",
        "from torch import autograd\n",
        "\n",
        "class DoubleConv(nn.Module):\n",
        "  def __init__(self, in_ch, out_ch):\n",
        "    super(DoubleConv, self).__init__()\n",
        "    self.conv = nn.Sequential(\n",
        "        nn.Conv2d(in_ch, out_ch, 3, padding=1),\n",
        "        nn.BatchNorm2d(out_ch),\n",
        "        nn.ReLU(inplace=True),\n",
        "        nn.Conv2d(out_ch, out_ch, 3, padding=1),\n",
        "        nn.BatchNorm2d(out_ch),\n",
        "        nn.ReLU(inplace = True)\n",
        "    )\n",
        "\n",
        "  def forward(self, input):\n",
        "    return self.conv(input)\n",
        "\n",
        "class UNet(nn.Module):\n",
        "  def __init__(self, in_ch, out_ch):\n",
        "    super(UNet, self).__init__()\n",
        "\n",
        "    self.conv1 = DoubleConv(in_ch, 64)\n",
        "    self.pool1 = nn.MaxPool2d(2)\n",
        "    self.conv2 = DoubleConv(64, 128)\n",
        "    self.pool2 = nn.MaxPool2d(2)\n",
        "    self.conv3 = DoubleConv(128, 256)\n",
        "    self.pool3 = nn.MaxPool2d(2)\n",
        "    self.conv4 = DoubleConv(256, 512)\n",
        "    self.pool4 = nn.MaxPool2d(2)\n",
        "    self.conv5 = DoubleConv(512, 1024)\n",
        "\n",
        "    self.up6 = nn.ConvTranspose2d(1024, 512, 2, stride=2)\n",
        "    self.conv6 = DoubleConv(1024, 512)\n",
        "    self.up7 = nn.ConvTranspose2d(512, 256, 2, stride=2)\n",
        "    self.conv7 = DoubleConv(512, 256)\n",
        "    self.up8 = nn.ConvTranspose2d(256, 128, 2, stride=2)\n",
        "    self.conv8 = DoubleConv(256, 128)\n",
        "    self.up9 = nn.ConvTranspose2d(128, 64, 2, stride=2)\n",
        "    self.conv9 = DoubleConv(128, 64)\n",
        "    self.conv10 = nn.Conv2d(64, out_ch, 1)\n",
        "\n",
        "  def forward(self, x):\n",
        "    c1 = self.conv1(x)\n",
        "    p1 = self.pool1(c1)\n",
        "    c2 = self.conv2(p1)\n",
        "    p2 = self.pool2(c2)\n",
        "    c3 = self.conv3(p2)\n",
        "    p3 = self.pool3(c3)\n",
        "    c4 = self.conv4(p3)\n",
        "    p4 = self.pool4(c4)\n",
        "    c5 = self.conv5(p4)\n",
        "\n",
        "    up_6 = self.up6(c5)\n",
        "    merge6 = torch.cat([up_6, c4], dim=1)\n",
        "    c6 = self.conv6(merge6)\n",
        "    up_7 = self.up7(c6)\n",
        "    merge_7 = torch.cat([up_7, c3], dim=1)\n",
        "    c7 = self.conv7(merge_7)\n",
        "    up_8 = self.up8(c7)\n",
        "    merge8 = torch.cat([up_8, c2], dim=1)\n",
        "    c8 = self.conv8(merge8)\n",
        "    up_9 = self.up9(c8)\n",
        "    merge9 = torch.cat([up_9, c1], dim=1)\n",
        "    c9 = self.conv9(merge9)\n",
        "    c10 = self.conv10(c9)\n",
        "    return c10\n",
        "    "
      ],
      "metadata": {
        "id": "YlITVuLzz7XB"
      },
      "execution_count": 48,
      "outputs": []
    },
    {
      "cell_type": "markdown",
      "source": [
        "# Training the UNet"
      ],
      "metadata": {
        "id": "pXrj6WaI3ntX"
      }
    },
    {
      "cell_type": "code",
      "source": [
        "# Check on the device\n",
        "import torch\n",
        "device = 'cuda' if torch.cuda.is_available() else 'cpu'\n",
        "print('Using device:', device)"
      ],
      "metadata": {
        "colab": {
          "base_uri": "https://localhost:8080/"
        },
        "id": "5Mnoy7bp5DOa",
        "outputId": "91ff1c25-b25c-47cd-cbd9-1e531e25419a"
      },
      "execution_count": 60,
      "outputs": [
        {
          "output_type": "stream",
          "name": "stdout",
          "text": [
            "Using device: cuda\n"
          ]
        }
      ]
    },
    {
      "cell_type": "code",
      "source": [
        "# Model Parameters - \n",
        "lr = 0.0001\n",
        "model = UNet(in_ch=3, out_ch=25).to(device)\n",
        "criterion = nn.CrossEntropyLoss()\n",
        "optimizer = torch.optim.Adam(model.parameters(), lr = lr)\n",
        "epochs = 40"
      ],
      "metadata": {
        "id": "FOEM7bc33lrc"
      },
      "execution_count": 64,
      "outputs": []
    },
    {
      "cell_type": "code",
      "source": [
        "# Model training and validation using above defined parameters - \n",
        "\n",
        "import numpy as np\n",
        "from tqdm import tqdm\n",
        "save_folder = '/content/drive/MyDrive/FoundationDeepLearning_Labs/Kaggle_Project/Trained_Models_Itr2/'\n",
        "\n",
        "total_train_loss = []\n",
        "total_val_loss = []\n",
        "\n",
        "for epoch in range(1, epochs+1):\n",
        "\n",
        "  #Training\n",
        "  model.train()\n",
        "  train_loss = []\n",
        "  #confusion_matrix.reset()\n",
        "\n",
        "  for i, batch, in enumerate(tqdm(train_dataloader)):\n",
        "    img_batch, lbl_batch = batch\n",
        "    img_batch, lbl_batch = img_batch.to(device), lbl_batch.type(torch.LongTensor).to(device)\n",
        "  \n",
        "    optimizer.zero_grad()\n",
        "    output = model(img_batch.float())\n",
        "    loss = criterion(output, lbl_batch)\n",
        "    loss.backward()\n",
        "    optimizer.step()\n",
        "\n",
        "    train_loss.append(loss.item())\n",
        "    \n",
        "\n",
        "    if i%50 == 0:\n",
        "      print('Train (epoch {}/{}) [{}/{} ({:.0f}%)]\\tLoss: {:.6f}'.format(\n",
        "          epoch, epochs, i, len(train_dataloader), 100.*i/len(train_dataloader), loss.item()\n",
        "      ))\n",
        "\n",
        "  train_loss_mean = np.mean(train_loss)\n",
        "  total_train_loss.append(train_loss_mean)\n",
        "  \n",
        "\n",
        "  #Validation \n",
        "  # model.eval()\n",
        "  # val_loss = []\n",
        "\n",
        "  # for i, batch, in enumerate(tqdm(val_dataloader)):\n",
        "  #   img_batch, lbl_batch = batch\n",
        "  #   img_batch, lbl_batch = img_batch.to(device), lbl_batch.type(torch.LongTensor).to(device)\n",
        "\n",
        "  #   output = model(img_batch.float())\n",
        "  #   loss = criterion(output, lbl_batch)\n",
        "\n",
        "  #   val_loss.append(loss.item())\n",
        "\n",
        "  # val_loss_mean = np.mean(val_loss)\n",
        "  # total_val_loss.append(val_loss_mean)\n",
        "  \n",
        "\n",
        "  print('Train_Loss: ', '%.3f' % train_loss_mean)\n",
        "  #print('Val_Loss: ', '%.3f' % val_loss_mean)\n",
        "\n",
        "  torch.save(model.state_dict(), save_folder + 'model_{}.pt'.format(epoch))\n"
      ],
      "metadata": {
        "colab": {
          "base_uri": "https://localhost:8080/"
        },
        "id": "t3tBOylF3cjU",
        "outputId": "7e978fff-39c9-482d-c482-22b399d2aef1"
      },
      "execution_count": null,
      "outputs": [
        {
          "output_type": "stream",
          "name": "stderr",
          "text": [
            "  6%|▌         | 1/17 [00:08<02:11,  8.25s/it]"
          ]
        },
        {
          "output_type": "stream",
          "name": "stdout",
          "text": [
            "Train (epoch 1/40) [0/17 (0%)]\tLoss: 3.290451\n"
          ]
        },
        {
          "output_type": "stream",
          "name": "stderr",
          "text": [
            "100%|██████████| 17/17 [01:03<00:00,  3.71s/it]\n"
          ]
        },
        {
          "output_type": "stream",
          "name": "stdout",
          "text": [
            "Train_Loss:  2.910\n"
          ]
        },
        {
          "output_type": "stream",
          "name": "stderr",
          "text": [
            "  6%|▌         | 1/17 [00:08<02:12,  8.29s/it]"
          ]
        },
        {
          "output_type": "stream",
          "name": "stdout",
          "text": [
            "Train (epoch 2/40) [0/17 (0%)]\tLoss: 2.593616\n"
          ]
        },
        {
          "output_type": "stream",
          "name": "stderr",
          "text": [
            "100%|██████████| 17/17 [01:03<00:00,  3.71s/it]\n"
          ]
        },
        {
          "output_type": "stream",
          "name": "stdout",
          "text": [
            "Train_Loss:  2.391\n"
          ]
        },
        {
          "output_type": "stream",
          "name": "stderr",
          "text": [
            "  6%|▌         | 1/17 [00:08<02:13,  8.34s/it]"
          ]
        },
        {
          "output_type": "stream",
          "name": "stdout",
          "text": [
            "Train (epoch 3/40) [0/17 (0%)]\tLoss: 2.230849\n"
          ]
        },
        {
          "output_type": "stream",
          "name": "stderr",
          "text": [
            "100%|██████████| 17/17 [01:02<00:00,  3.68s/it]\n"
          ]
        },
        {
          "output_type": "stream",
          "name": "stdout",
          "text": [
            "Train_Loss:  2.166\n"
          ]
        },
        {
          "output_type": "stream",
          "name": "stderr",
          "text": [
            "  6%|▌         | 1/17 [00:07<02:06,  7.89s/it]"
          ]
        },
        {
          "output_type": "stream",
          "name": "stdout",
          "text": [
            "Train (epoch 4/40) [0/17 (0%)]\tLoss: 2.061323\n"
          ]
        },
        {
          "output_type": "stream",
          "name": "stderr",
          "text": [
            "100%|██████████| 17/17 [01:02<00:00,  3.66s/it]\n"
          ]
        },
        {
          "output_type": "stream",
          "name": "stdout",
          "text": [
            "Train_Loss:  2.038\n"
          ]
        },
        {
          "output_type": "stream",
          "name": "stderr",
          "text": [
            "  6%|▌         | 1/17 [00:08<02:11,  8.20s/it]"
          ]
        },
        {
          "output_type": "stream",
          "name": "stdout",
          "text": [
            "Train (epoch 5/40) [0/17 (0%)]\tLoss: 1.877487\n"
          ]
        },
        {
          "output_type": "stream",
          "name": "stderr",
          "text": [
            "100%|██████████| 17/17 [01:02<00:00,  3.68s/it]\n"
          ]
        },
        {
          "output_type": "stream",
          "name": "stdout",
          "text": [
            "Train_Loss:  1.953\n"
          ]
        },
        {
          "output_type": "stream",
          "name": "stderr",
          "text": [
            "  6%|▌         | 1/17 [00:08<02:09,  8.12s/it]"
          ]
        },
        {
          "output_type": "stream",
          "name": "stdout",
          "text": [
            "Train (epoch 6/40) [0/17 (0%)]\tLoss: 1.913936\n"
          ]
        },
        {
          "output_type": "stream",
          "name": "stderr",
          "text": [
            "100%|██████████| 17/17 [01:03<00:00,  3.72s/it]\n"
          ]
        },
        {
          "output_type": "stream",
          "name": "stdout",
          "text": [
            "Train_Loss:  1.825\n"
          ]
        },
        {
          "output_type": "stream",
          "name": "stderr",
          "text": [
            "  6%|▌         | 1/17 [00:08<02:12,  8.25s/it]"
          ]
        },
        {
          "output_type": "stream",
          "name": "stdout",
          "text": [
            "Train (epoch 7/40) [0/17 (0%)]\tLoss: 1.770752\n"
          ]
        },
        {
          "output_type": "stream",
          "name": "stderr",
          "text": [
            "100%|██████████| 17/17 [01:02<00:00,  3.69s/it]\n"
          ]
        },
        {
          "output_type": "stream",
          "name": "stdout",
          "text": [
            "Train_Loss:  1.755\n"
          ]
        },
        {
          "output_type": "stream",
          "name": "stderr",
          "text": [
            "  6%|▌         | 1/17 [00:08<02:09,  8.07s/it]"
          ]
        },
        {
          "output_type": "stream",
          "name": "stdout",
          "text": [
            "Train (epoch 8/40) [0/17 (0%)]\tLoss: 1.737635\n"
          ]
        },
        {
          "output_type": "stream",
          "name": "stderr",
          "text": [
            "100%|██████████| 17/17 [01:02<00:00,  3.69s/it]\n"
          ]
        },
        {
          "output_type": "stream",
          "name": "stdout",
          "text": [
            "Train_Loss:  1.677\n"
          ]
        },
        {
          "output_type": "stream",
          "name": "stderr",
          "text": [
            "  6%|▌         | 1/17 [00:08<02:08,  8.01s/it]"
          ]
        },
        {
          "output_type": "stream",
          "name": "stdout",
          "text": [
            "Train (epoch 9/40) [0/17 (0%)]\tLoss: 1.591150\n"
          ]
        },
        {
          "output_type": "stream",
          "name": "stderr",
          "text": [
            "100%|██████████| 17/17 [01:02<00:00,  3.68s/it]\n"
          ]
        },
        {
          "output_type": "stream",
          "name": "stdout",
          "text": [
            "Train_Loss:  1.635\n"
          ]
        },
        {
          "output_type": "stream",
          "name": "stderr",
          "text": [
            "  6%|▌         | 1/17 [00:08<02:12,  8.29s/it]"
          ]
        },
        {
          "output_type": "stream",
          "name": "stdout",
          "text": [
            "Train (epoch 10/40) [0/17 (0%)]\tLoss: 1.638770\n"
          ]
        },
        {
          "output_type": "stream",
          "name": "stderr",
          "text": [
            "100%|██████████| 17/17 [01:03<00:00,  3.72s/it]\n"
          ]
        },
        {
          "output_type": "stream",
          "name": "stdout",
          "text": [
            "Train_Loss:  1.577\n"
          ]
        },
        {
          "output_type": "stream",
          "name": "stderr",
          "text": [
            "  6%|▌         | 1/17 [00:08<02:15,  8.49s/it]"
          ]
        },
        {
          "output_type": "stream",
          "name": "stdout",
          "text": [
            "Train (epoch 11/40) [0/17 (0%)]\tLoss: 1.519755\n"
          ]
        },
        {
          "output_type": "stream",
          "name": "stderr",
          "text": [
            "100%|██████████| 17/17 [01:02<00:00,  3.70s/it]\n"
          ]
        },
        {
          "output_type": "stream",
          "name": "stdout",
          "text": [
            "Train_Loss:  1.527\n"
          ]
        },
        {
          "output_type": "stream",
          "name": "stderr",
          "text": [
            "  6%|▌         | 1/17 [00:08<02:13,  8.35s/it]"
          ]
        },
        {
          "output_type": "stream",
          "name": "stdout",
          "text": [
            "Train (epoch 12/40) [0/17 (0%)]\tLoss: 1.418302\n"
          ]
        },
        {
          "output_type": "stream",
          "name": "stderr",
          "text": [
            "100%|██████████| 17/17 [01:02<00:00,  3.70s/it]\n"
          ]
        },
        {
          "output_type": "stream",
          "name": "stdout",
          "text": [
            "Train_Loss:  1.465\n"
          ]
        },
        {
          "output_type": "stream",
          "name": "stderr",
          "text": [
            "  6%|▌         | 1/17 [00:08<02:13,  8.34s/it]"
          ]
        },
        {
          "output_type": "stream",
          "name": "stdout",
          "text": [
            "Train (epoch 13/40) [0/17 (0%)]\tLoss: 1.396742\n"
          ]
        },
        {
          "output_type": "stream",
          "name": "stderr",
          "text": [
            "100%|██████████| 17/17 [01:03<00:00,  3.73s/it]\n"
          ]
        },
        {
          "output_type": "stream",
          "name": "stdout",
          "text": [
            "Train_Loss:  1.398\n"
          ]
        },
        {
          "output_type": "stream",
          "name": "stderr",
          "text": [
            "  6%|▌         | 1/17 [00:08<02:11,  8.24s/it]"
          ]
        },
        {
          "output_type": "stream",
          "name": "stdout",
          "text": [
            "Train (epoch 14/40) [0/17 (0%)]\tLoss: 1.329883\n"
          ]
        },
        {
          "output_type": "stream",
          "name": "stderr",
          "text": [
            "100%|██████████| 17/17 [01:02<00:00,  3.70s/it]\n"
          ]
        },
        {
          "output_type": "stream",
          "name": "stdout",
          "text": [
            "Train_Loss:  1.364\n"
          ]
        },
        {
          "output_type": "stream",
          "name": "stderr",
          "text": [
            "  6%|▌         | 1/17 [00:08<02:10,  8.17s/it]"
          ]
        },
        {
          "output_type": "stream",
          "name": "stdout",
          "text": [
            "Train (epoch 15/40) [0/17 (0%)]\tLoss: 1.282211\n"
          ]
        },
        {
          "output_type": "stream",
          "name": "stderr",
          "text": [
            " 53%|█████▎    | 9/17 [00:39<00:36,  4.56s/it]"
          ]
        }
      ]
    },
    {
      "cell_type": "code",
      "source": [
        "#Training and Validation Loss Curve\n",
        "\n",
        "import matplotlib.pyplot as plt\n",
        "\n",
        "plt.plot(list(range(epochs+1))[1:], total_train_loss)\n",
        "#plt.plot(list(range(epochs+1))[1:], total_val_loss)\n",
        "#plt.legend(['train','val'])\n",
        "plt.xlabel('Epochs')\n",
        "plt.ylabel('Loss')\n"
      ],
      "metadata": {
        "colab": {
          "base_uri": "https://localhost:8080/",
          "height": 297
        },
        "id": "y8IrSV60tDeM",
        "outputId": "e0f17846-f7b3-4b8a-ef19-1647b8873cb2"
      },
      "execution_count": 52,
      "outputs": [
        {
          "output_type": "execute_result",
          "data": {
            "text/plain": [
              "Text(0, 0.5, 'Loss')"
            ]
          },
          "metadata": {},
          "execution_count": 52
        },
        {
          "output_type": "display_data",
          "data": {
            "image/png": "[encoded data removed]",
            "text/plain": [
              "<Figure size 432x288 with 1 Axes>"
            ]
          },
          "metadata": {
            "needs_background": "light"
          }
        }
      ]
    },
    {
      "cell_type": "markdown",
      "source": [
        "# Output on Test Images"
      ],
      "metadata": {
        "id": "DWAX2AUrBtWW"
      }
    },
    {
      "cell_type": "code",
      "source": [
        "#List of the names of images from test dataset - \n",
        "\n",
        "import pandas as pd\n",
        "def create_df():\n",
        "    name = []\n",
        "    for dirname, _, filenames in os.walk(test_images_dir):\n",
        "        for filename in filenames:\n",
        "            name.append(filename.split('.')[0])\n",
        "    \n",
        "    return pd.DataFrame({'id': name}, index = np.arange(0, len(name)))\n",
        "\n",
        "df_test = create_df()\n",
        "print('Total Images: ', len(df_test))\n",
        "\n",
        "test = df_test['id'].values"
      ],
      "metadata": {
        "colab": {
          "base_uri": "https://localhost:8080/"
        },
        "id": "x1k88hyR4cdi",
        "outputId": "402df549-d18c-4d3b-a702-878421c548c6"
      },
      "execution_count": 53,
      "outputs": [
        {
          "output_type": "stream",
          "name": "stdout",
          "text": [
            "Total Images:  112\n"
          ]
        }
      ]
    },
    {
      "cell_type": "code",
      "source": [
        "# Running the most optimal epoch on test images for mask output\n",
        "\n",
        "import torch.nn.functional as F\n",
        "import cv2\n",
        "from PIL import Image\n",
        "\n",
        "model = UNet(3, 27)\n",
        "model.load_state_dict(torch.load('/content/drive/MyDrive/FoundationDeepLearning_Labs/Kaggle_Project/Trained_Models_Itr2/model_29.pt'))\n",
        "\n",
        "# Directory for saving the output masks\n",
        "save_path = '/content/drive/MyDrive/FoundationDeepLearning_Labs/Kaggle_Project/test_preds_itr2/'\n",
        "\n",
        "model.eval()\n",
        "\n",
        "i = 0\n",
        "with torch.no_grad():\n",
        "  for x in test_dataloader:\n",
        "    y = model(x.float())\n",
        "\n",
        "    y = F.softmax(y, dim=1) # Convert the network output values to probabilistic array [1x25x128x128]\n",
        "    y = torch.argmax(y, dim=1) # take the index corresponding to larger value [1x1x128x128]\n",
        "    \n",
        "    y = y.cpu().squeeze(0)\n",
        "\n",
        "    mask = y.detach().numpy().copy()\n",
        "\n",
        "    resize = A.Resize(4000, 3000, interpolation=cv2.INTER_NEAREST)\n",
        "    aug = resize(image = mask)\n",
        "    mask = aug['image']\n",
        "\n",
        "    # Save the mask image as .png file\n",
        "    cv2.imwrite(save_path + str(test[i]) + '.png', mask)\n",
        "    \n",
        "    i = i+1"
      ],
      "metadata": {
        "id": "dN_FwXtB8MHs"
      },
      "execution_count": 54,
      "outputs": []
    },
    {
      "cell_type": "markdown",
      "source": [
        "# Submission file using the prepare_submssion.py code"
      ],
      "metadata": {
        "id": "MjGPuiJMFjsK"
      }
    },
    {
      "cell_type": "code",
      "source": [
        "import os\n",
        "\n",
        "from PIL import Image\n",
        "import numpy as np\n",
        "\n",
        "def rle_encode(img):\n",
        "    '''\n",
        "    img: numpy array, 1 - mask, 0 - background\n",
        "    Returns run length as string formated\n",
        "    '''\n",
        "    pixels = img.flatten()\n",
        "    pixels = np.concatenate([[0], pixels, [0]])\n",
        "    runs = np.where(pixels[1:] != pixels[:-1])[0] + 1\n",
        "    runs[1::2] -= runs[::2]\n",
        "    return ' '.join(str(x) for x in runs)\n",
        "\n",
        "def rle_decode(mask_rle, shape):\n",
        "    '''\n",
        "    mask_rle: run-length as string formated (start length)\n",
        "    shape: (height,width) of array to return\n",
        "    Returns numpy array, 1 - mask, 0 - background\n",
        "    '''\n",
        "    s = mask_rle.split()\n",
        "    starts, lengths = [np.asarray(x, dtype=int) for x in (s[0:][::2], s[1:][::2])]\n",
        "    starts -= 1\n",
        "    ends = starts + lengths\n",
        "    img = np.zeros(shape[0]*shape[1], dtype=np.uint8)\n",
        "    for lo, hi in zip(starts, ends):\n",
        "        img[lo:hi] = 1\n",
        "    return img.reshape(shape)\n",
        "\n",
        "\n",
        "def create_rles():\n",
        "    \"\"\"Used for Kaggle submission: predicts and encode all test images\"\"\"\n",
        "    dir = save_path\n",
        "    N = len(list(os.listdir(dir)))\n",
        "    with open('submission_file.csv', 'w') as f: \n",
        "        f.write('ImageClassId,rle_mask\\n')\n",
        "        for index, i in enumerate(os.listdir(dir)):\n",
        "            # print('{}/{}'.format(index, N))\n",
        "\n",
        "            mask = Image.open(dir + i)\n",
        "            mask = mask.resize((1024, 1024), resample=Image.NEAREST) #Image.BICUBIC\n",
        "            mask = np.array(mask)\n",
        "\n",
        "            for x in range(1, 25):\n",
        "                enc = rle_encode(mask == x)\n",
        "                f.write(f\"{i.split('_')[0]}_{x},{enc}\\n\")\n",
        "\n",
        "create_rles()"
      ],
      "metadata": {
        "id": "0LSEbLOfFix7"
      },
      "execution_count": 55,
      "outputs": []
    },
    {
      "cell_type": "code",
      "source": [
        ""
      ],
      "metadata": {
        "id": "zGOeUg9iiipP"
      },
      "execution_count": null,
      "outputs": []
    }
  ]
}